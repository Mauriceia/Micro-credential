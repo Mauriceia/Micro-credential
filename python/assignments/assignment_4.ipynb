{
  "cells": [
    {
      "cell_type": "code",
      "execution_count": null,
      "metadata": {
        "colab": {
          "base_uri": "https://localhost:8080/"
        },
        "id": "bmHIjCV0m3AN",
        "outputId": "cf360a4b-67a4-4c55-ccf8-565d7e2c1e11"
      },
      "outputs": [
        {
          "output_type": "stream",
          "name": "stdout",
          "text": [
            "White\n",
            "Black\n",
            "Blue\n",
            "Red\n",
            "Green\n",
            "We have five colors!\n",
            "['Black', 'Blue', 'Green', 'Red', 'White']\n",
            "['Black', 'Blue', 'Green']\n",
            "Red\n",
            "White\n"
          ]
        }
      ],
      "source": [
        "# Question 1\n",
        "# Create a list that holds 5 data variables.\n",
        "num = ['White', 'Black', 'Blue', 'Red', 'Green']\n",
        "\n",
        "# Question 2\n",
        "# Print out those variables by using a for loop.\n",
        "for number in num:\n",
        "  print(number)\n",
        "\n",
        "# Question 3\n",
        "# Modify your for loop to add a message to your for loop.\n",
        "else:\n",
        "  print('We have five colors!')\n",
        "\n",
        "# Question 5\n",
        "# Sort your list in alphabetic order.\n",
        "num.sort()\n",
        "print(num)\n",
        "\n",
        "# Question 6\n",
        "# Print out the first three elements of your list.\n",
        "print(num[0:3])\n",
        "\n",
        "# Question 7\n",
        "for number in range(len(num)):\n",
        "  if number > 2:\n",
        "    print(num[number])\n",
        "\n",
        "\n",
        "\n",
        "\n"
      ]
    },
    {
      "cell_type": "code",
      "execution_count": null,
      "metadata": {
        "id": "aB4G5jXbkXYO"
      },
      "outputs": [],
      "source": [
        ""
      ]
    },
    {
      "cell_type": "code",
      "execution_count": null,
      "metadata": {
        "colab": {
          "base_uri": "https://localhost:8080/"
        },
        "id": "8nDQy2BokgxJ",
        "outputId": "ad3de682-b232-482b-fdb8-76a6448fa059"
      },
      "outputs": [
        {
          "name": "stdout",
          "output_type": "stream",
          "text": [
            "0\n",
            "2\n",
            "4\n",
            "6\n",
            "8\n",
            "10\n",
            "12\n",
            "14\n",
            "16\n",
            "18\n",
            "20\n",
            "You got it!\n"
          ]
        }
      ],
      "source": [
        "# Question 4\n",
        "# Use a for loop to print even numbers from 1-20.\n",
        "for number in range(0, 22, 2):\n",
        "  print(number)\n",
        "print('You got it!')\n",
        "\n",
        "\n"
      ]
    }
  ],
  "metadata": {
    "colab": {
      "name": "assignment_4.ipynb",
      "provenance": [],
      "collapsed_sections": []
    },
    "kernelspec": {
      "display_name": "Python 3",
      "name": "python3"
    },
    "language_info": {
      "name": "python"
    }
  },
  "nbformat": 4,
  "nbformat_minor": 0
}