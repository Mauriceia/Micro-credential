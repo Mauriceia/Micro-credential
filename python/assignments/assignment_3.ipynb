{
  "nbformat": 4,
  "nbformat_minor": 0,
  "metadata": {
    "colab": {
      "name": "assignment_3.ipynb",
      "provenance": [],
      "collapsed_sections": []
    },
    "kernelspec": {
      "name": "python3",
      "display_name": "Python 3"
    },
    "language_info": {
      "name": "python"
    }
  },
  "cells": [
    {
      "cell_type": "code",
      "source": [
        "# Question 1 \n",
        "# Create a list of 5 of your favorite tv shows\n",
        "tv_show = ['Seinfeld', 'Breaking Bad', 'Modern Family', 'Dirty John', 'The Fresh Prince of Bel-Air']\n",
        "\n",
        "# Question 2\n",
        "# Print the list in its original order.\n",
        "print(tv_show)\n",
        "\n",
        "# Question 3\n",
        "# Use the sorted() function to print the list in alphabetical order. how is sorted() different from sort()? \n",
        "# Answer: It will print a list in alphabetical order not in the way it written. \n",
        "shows = sorted(tv_show)\n",
        "print(shows)\n",
        "\n",
        "# Question 4\n",
        "# Print out the original list\n",
        "print(tv_show)\n",
        "\n",
        "# Question 5\n",
        "# Use sorted() to print your list in reverse alphabetical order\n",
        "shows = sorted(tv_show, reverse = True)\n",
        "print(shows)\n",
        "\n",
        "# Question 6\n",
        "# Create a message indicating how many favorite TV shows you have - use the len() function.\n",
        "shows = len(tv_show)\n",
        "print(shows)"
      ],
      "metadata": {
        "colab": {
          "base_uri": "https://localhost:8080/"
        },
        "id": "TIZuy7Jpd2T-",
        "outputId": "9b7542ec-e11d-4a0c-d49a-858fc750db0c"
      },
      "execution_count": null,
      "outputs": [
        {
          "output_type": "stream",
          "name": "stdout",
          "text": [
            "['Seinfeld', 'Breaking Bad', 'Modern Family', 'Dirty John', 'The Fresh Prince of Bel-Air']\n",
            "['Breaking Bad', 'Dirty John', 'Modern Family', 'Seinfeld', 'The Fresh Prince of Bel-Air']\n",
            "['Seinfeld', 'Breaking Bad', 'Modern Family', 'Dirty John', 'The Fresh Prince of Bel-Air']\n",
            "['The Fresh Prince of Bel-Air', 'Seinfeld', 'Modern Family', 'Dirty John', 'Breaking Bad']\n",
            "5\n"
          ]
        }
      ]
    }
  ]
}