{
  "nbformat": 4,
  "nbformat_minor": 0,
  "metadata": {
    "colab": {
      "name": "assingment_5.ipynb",
      "provenance": [],
      "collapsed_sections": []
    },
    "kernelspec": {
      "name": "python3",
      "display_name": "Python 3"
    },
    "language_info": {
      "name": "python"
    }
  },
  "cells": [
    {
      "cell_type": "code",
      "execution_count": null,
      "metadata": {
        "colab": {
          "base_uri": "https://localhost:8080/"
        },
        "id": "9RdrkBVUxLYo",
        "outputId": "f3570530-d7d5-4ff2-d0dd-e6139e3c0618"
      },
      "outputs": [
        {
          "output_type": "stream",
          "name": "stdout",
          "text": [
            "Welcome to your account Hinata.\n",
            "Welcome to your account Naruto.\n",
            "Welcome to your account Kiba.\n",
            "You are logged in your admin account.\n",
            "Welcome to your account Sakura.\n"
          ]
        }
      ],
      "source": [
        "#Question 1\n",
        "#  Make a list of 5 or more usernames, including an admin account. \n",
        "# Imagine you are writing code that will welcome people to your application on login. \n",
        "# Loop through the list and print your greeting.\n",
        "# a. If the admin account logs in, give them a special greeting. They’re the admin, after all!\n",
        "# b. Other users can get the generic greeting\n",
        "\n",
        "user_info = ['Hinata', 'Naruto', 'Kiba', 'admin', 'Sakura']\n",
        "for users in user_info:\n",
        "  if users == 'admin':\n",
        "    print('You are logged in your admin account.')\n",
        "  else:\n",
        "    print(f'Welcome to your account {users}.') "
      ]
    },
    {
      "cell_type": "code",
      "source": [
        "# Question 2\n",
        "# Store numbers 1-10 in a list\n",
        "# a. Loop through the list\n",
        "# b. Use an if-elif-else chain inside your loop to print the ordinal ending for each number –\n",
        "# for example – 1 st , 2 nd , 3 rd … etc.\n",
        "\n",
        "num = [1, 2, 3, 4, 5, 6, 7, 8, 9, 10]\n",
        "for number in num:\n",
        "  if number == 1:\n",
        "    print('1st')\n",
        "  elif number == 2:\n",
        "    print('2nd')\n",
        "  elif number == 3:\n",
        "    print('3rd')\n",
        "  else:\n",
        "    print(str(number) + 'th')\n"
      ],
      "metadata": {
        "colab": {
          "base_uri": "https://localhost:8080/"
        },
        "id": "pV-cjJzN1IC3",
        "outputId": "1424d6b0-9933-4c4e-c014-db1f3394fe27"
      },
      "execution_count": null,
      "outputs": [
        {
          "output_type": "stream",
          "name": "stdout",
          "text": [
            "1st\n",
            "2nd\n",
            "3rd\n",
            "4th\n",
            "5th\n",
            "6th\n",
            "7th\n",
            "8th\n",
            "9th\n",
            "10th\n"
          ]
        }
      ]
    }
  ]
}