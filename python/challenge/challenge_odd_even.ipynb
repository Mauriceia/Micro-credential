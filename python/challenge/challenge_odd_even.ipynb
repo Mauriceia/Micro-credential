{
  "nbformat": 4,
  "nbformat_minor": 0,
  "metadata": {
    "colab": {
      "name": "challenge_odd_even.ipynb",
      "provenance": [],
      "collapsed_sections": []
    },
    "kernelspec": {
      "name": "python3",
      "display_name": "Python 3"
    },
    "language_info": {
      "name": "python"
    }
  },
  "cells": [
    {
      "cell_type": "code",
      "execution_count": null,
      "metadata": {
        "id": "TB_LQlF7ohQO",
        "colab": {
          "base_uri": "https://localhost:8080/"
        },
        "outputId": "6adf1415-f20b-4215-edb8-164d0ef4876c"
      },
      "outputs": [
        {
          "output_type": "stream",
          "name": "stdout",
          "text": [
            "Enter a number: 26\n",
            "You entered an even number.\n",
            "Enter a second number: 3\n",
            "Enter a number to check the number above: 5\n",
            "The 3 is not divisible by 5.\n"
          ]
        }
      ],
      "source": [
        "# Ask the user for a number. Depending on whether the number is even or odd, print out an appropriate message to the user.  \n",
        "# Hint: how does an even / odd number react differently when divided by 2?\n",
        "\n",
        "# Bonus:\n",
        "# If the number is a multiple of 4, print out a different message.\n",
        "# Ask the user for two numbers: one number to check (call it num) and one number to divide by (check).  \n",
        "# If check divides evenly into num, tell that to the user.  If not, print a different appropriate message.\n",
        "# Write a custom function for finding whether the number is even or odd and call it in your main program code.\n",
        "\n",
        "\n",
        "# check condition if the number is even or odd\n",
        "\n",
        "def odd_even_numbers(x):\n",
        "  if (int(x) % 4) == 0:\n",
        "    print('You entered a number multiple of 4.')\n",
        "  elif (int(x) % 2) == 0:\n",
        "    print('You entered an even number.')\n",
        "  else: \n",
        "    print('You entered an odd number.')\n",
        "\n",
        "userInput = input('Enter a number: ')\n",
        "odd_even_numbers(userInput)\n",
        "\n",
        "def Inputs (num, check):\n",
        "  if int(num) % int(check) == 0:\n",
        "    print(f'The {num} is divisible by {check}.')\n",
        "  else:\n",
        "    print(f'The {num} is not divisible by {check}.')\n",
        "\n",
        "userInput1 = input('Enter a second number: ')\n",
        "userInput2 = input('Enter a number to check the number above: ')\n",
        "\n",
        "Inputs(userInput1, userInput2)\n",
        "\n",
        "\n"
      ]
    }
  ]
}