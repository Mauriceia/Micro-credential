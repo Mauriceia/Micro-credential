{
  "nbformat": 4,
  "nbformat_minor": 0,
  "metadata": {
    "colab": {
      "name": "assignment1_Unity_3.ipynb",
      "provenance": [],
      "collapsed_sections": []
    },
    "kernelspec": {
      "name": "python3",
      "display_name": "Python 3"
    },
    "language_info": {
      "name": "python"
    }
  },
  "cells": [
    {
      "cell_type": "code",
      "execution_count": null,
      "metadata": {
        "id": "3vUbsccdccFt"
      },
      "outputs": [],
      "source": [
        "import numpy as np"
      ]
    },
    {
      "cell_type": "markdown",
      "source": [
        "1. Environment Set up"
      ],
      "metadata": {
        "id": "9pVKpJ7CdOmF"
      }
    },
    {
      "cell_type": "code",
      "source": [
        "#Dataset from summer Olympic London, year 2012\n",
        "np_olympic_country = np.array(['GBR','China','RUS','US','KOR','JPN','GER'])\n",
        "np_olympic_country_Gold = np.array([29,38,24,46,13,7,11])\n",
        "np_olympic_country_Silver = np.array([17,28,25,28,8,14,11])\n",
        "np_olympic_country_Bronze = np.array([19,22,32,29,7,17,14])"
      ],
      "metadata": {
        "id": "m5yTvhfFcq0T"
      },
      "execution_count": null,
      "outputs": []
    },
    {
      "cell_type": "markdown",
      "source": [
        "2. Find country with maximum gold"
      ],
      "metadata": {
        "id": "qAO2gBJcdZSb"
      }
    },
    {
      "cell_type": "code",
      "source": [
        "max_gold = np_olympic_country_Gold == max(np_olympic_country_Gold)\n",
        "max_gold_num = np_olympic_country_Gold == max(np_olympic_country_Gold)\n",
        "\n",
        "print(np_olympic_country[max_gold])\n",
        "print(np_olympic_country_Gold[max_gold_num])\n",
        "\n"
      ],
      "metadata": {
        "colab": {
          "base_uri": "https://localhost:8080/"
        },
        "id": "LeNTNa0gdciq",
        "outputId": "2b039930-ff75-4b9a-c385-2c1e4ad949ee"
      },
      "execution_count": null,
      "outputs": [
        {
          "output_type": "stream",
          "name": "stdout",
          "text": [
            "['US']\n",
            "[46]\n"
          ]
        }
      ]
    },
    {
      "cell_type": "markdown",
      "source": [
        "3. Find countries with more than 20 gold medals"
      ],
      "metadata": {
        "id": "JnZnYazVddvn"
      }
    },
    {
      "cell_type": "code",
      "source": [
        "max_gold_medals = np_olympic_country_Gold > 20\n",
        "print(np_olympic_country[max_gold_medals])"
      ],
      "metadata": {
        "colab": {
          "base_uri": "https://localhost:8080/"
        },
        "id": "gcyY3B6edhpF",
        "outputId": "7a7ab5a8-b9b5-4ba2-857e-72d3fa221fda"
      },
      "execution_count": null,
      "outputs": [
        {
          "output_type": "stream",
          "name": "stdout",
          "text": [
            "['GBR' 'China' 'RUS' 'US']\n"
          ]
        }
      ]
    }
  ]
}